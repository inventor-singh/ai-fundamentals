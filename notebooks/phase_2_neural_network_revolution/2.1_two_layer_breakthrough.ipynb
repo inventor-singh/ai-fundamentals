{
 "cells": [
  {
   "cell_type": "markdown",
   "id": "eb840c93",
   "metadata": {},
   "source": [
    "# 🚀 Level 2.1: The Two-Layer Breakthrough\n",
    "\n",
    "[![Open In Colab](https://colab.research.google.com/assets/colab-badge.svg)](https://colab.research.google.com/github/YOUR_USERNAME/ai-mastery-from-scratch/blob/main/notebooks/phase_2_neural_network_revolution/2.1_two_layer_breakthrough.ipynb)\n",
    "\n",
    "---\n",
    "\n",
    "## 🎯 The Challenge: Can Two Layers Solve What One Cannot?\n",
    "\n",
    "In this lesson, you'll build your first multi-layer neural network and see how it can solve the XOR problem—a feat impossible for a single neuron!\n",
    "\n",
    "### What You'll Discover:\n",
    "- How a hidden layer unlocks new power\n",
    "- The structure of a two-layer neural network\n",
    "- Visual intuition for non-linear decision boundaries\n",
    "- Interactive experiments with network parameters\n",
    "\n",
    "Let's get started!"
   ]
  },
  {
   "cell_type": "markdown",
   "id": "17b6fa65",
   "metadata": {},
   "source": [
    "## 🚀 Setup & Imports\n",
    "\n",
    "*Run the cell below to set up your environment. This works in both Google Colab and local Jupyter notebooks.*"
   ]
  },
  {
   "cell_type": "code",
   "execution_count": 1,
   "id": "df49dad7",
   "metadata": {},
   "outputs": [
    {
     "name": "stdout",
     "output_type": "stream",
     "text": [
      "✅ All packages installed!\n"
     ]
    }
   ],
   "source": [
    "# 📦 Install Required Packages\n",
    "!pip install numpy --quiet\n",
    "!pip install matplotlib --quiet\n",
    "!pip install ipywidgets --quiet\n",
    "\n",
    "print(\"✅ All packages installed!\")"
   ]
  },
  {
   "cell_type": "code",
   "execution_count": 2,
   "id": "2e8b6a94",
   "metadata": {},
   "outputs": [
    {
     "name": "stdout",
     "output_type": "stream",
     "text": [
      "🎯 Environment ready!\n"
     ]
    }
   ],
   "source": [
    "# 🔧 Environment Check & Imports\n",
    "import numpy as np\n",
    "import matplotlib.pyplot as plt\n",
    "import ipywidgets as widgets\n",
    "from IPython.display import display\n",
    "\n",
    "plt.style.use('default')\n",
    "plt.rcParams['figure.figsize'] = (7, 5)\n",
    "plt.rcParams['font.size'] = 12\n",
    "\n",
    "print(\"🎯 Environment ready!\")"
   ]
  },
  {
   "cell_type": "markdown",
   "id": "65813333",
   "metadata": {},
   "source": [
    "## 🧬 Generate XOR Dataset\n",
    "\n",
    "We'll use the same XOR dataset as before. This will let us compare the single neuron and two-layer network side by side."
   ]
  },
  {
   "cell_type": "code",
   "execution_count": 3,
   "id": "507bd895",
   "metadata": {},
   "outputs": [],
   "source": [
    "# Generate XOR data (2D)\n",
    "X = np.array([\n",
    "    [0, 0],\n",
    "    [0, 1],\n",
    "    [1, 0],\n",
    "    [1, 1]\n",
    "])\n",
    "y = np.array([0, 1, 1, 0])\n",
    "\n",
    "# Add a little noise for visualization\n",
    "np.random.seed(42)\n",
    "X_noisy = X + 0.08 * np.random.randn(*X.shape)\n"
   ]
  },
  {
   "cell_type": "markdown",
   "id": "3e81eed3",
   "metadata": {},
   "source": [
    "## 👀 Visualize XOR Data\n",
    "\n",
    "Let's plot the XOR dataset again. Remember, a single neuron couldn't solve this. Can two layers do better?"
   ]
  },
  {
   "cell_type": "code",
   "execution_count": 4,
   "id": "3376287a",
   "metadata": {},
   "outputs": [
    {
     "data": {
      "image/png": "[encoded data removed]",
      "text/plain": [
       "<Figure size 700x500 with 1 Axes>"
      ]
     },
     "metadata": {},
     "output_type": "display_data"
    }
   ],
   "source": [
    "# Plot XOR data\n",
    "plt.scatter(X_noisy[:,0], X_noisy[:,1], c=y, cmap='coolwarm', s=120, edgecolors='k')\n",
    "for i, (x, label) in enumerate(zip(X_noisy, y)):\n",
    "    plt.text(x[0]+0.03, x[1], str(label), fontsize=14, color='black')\n",
    "plt.title('XOR Dataset: Not Linearly Separable')\n",
    "plt.xlabel('X1')\n",
    "plt.ylabel('X2')\n",
    "plt.grid(True, alpha=0.3)\n",
    "plt.show()"
   ]
  },
  {
   "cell_type": "markdown",
   "id": "2fabbacc",
   "metadata": {},
   "source": [
    "## 🏗️ Build a Two-Layer Neural Network\n",
    "\n",
    "Now let's build a neural network with one hidden layer (two layers total). This is the simplest network that can solve XOR!"
   ]
  },
  {
   "cell_type": "code",
   "execution_count": 5,
   "id": "d8375b7b",
   "metadata": {},
   "outputs": [
    {
     "name": "stdout",
     "output_type": "stream",
     "text": [
      "Predictions: [0 1 1 0]\n",
      "True labels: [0 1 1 0]\n",
      "Correct? True\n"
     ]
    }
   ],
   "source": [
    "# Define a two-layer neural network (1 hidden layer, sigmoid activations)\n",
    "def sigmoid(z):\n",
    "    return 1 / (1 + np.exp(-z))\n",
    "\n",
    "def two_layer_predict(X, w1, w2, b1, w3, w4, b2, w_out, b_out):\n",
    "    # Hidden layer\n",
    "    h1 = sigmoid(w1 * X[:,0] + w2 * X[:,1] + b1)\n",
    "    h2 = sigmoid(w3 * X[:,0] + w4 * X[:,1] + b2)\n",
    "    # Output layer\n",
    "    z_out = w_out[0] * h1 + w_out[1] * h2 + b_out\n",
    "    return sigmoid(z_out)\n",
    "\n",
    "# Example weights (these can solve XOR!)\n",
    "w1, w2, b1 = 8, 8, -4\n",
    "w3, w4, b2 = -8, -8, 12\n",
    "w_out = np.array([8, 8])\n",
    "b_out = -12\n",
    "\n",
    "probs = two_layer_predict(X_noisy, w1, w2, b1, w3, w4, b2, w_out, b_out)\n",
    "preds = (probs > 0.5).astype(int)\n",
    "print(\"Predictions:\", preds)\n",
    "print(\"True labels:\", y)\n",
    "print(\"Correct?\", np.array_equal(preds, y))"
   ]
  },
  {
   "cell_type": "markdown",
   "id": "f714501a",
   "metadata": {},
   "source": [
    "## 🖼️ Visualize the Two-Layer Network's Decision Boundary\n",
    "\n",
    "Let's see how the two-layer network separates the XOR data. The boundary will be non-linear!"
   ]
  },
  {
   "cell_type": "code",
   "execution_count": 6,
   "id": "096aa026",
   "metadata": {},
   "outputs": [
    {
     "data": {
      "image/png": "[encoded data removed]",
      "text/plain": [
       "<Figure size 700x500 with 1 Axes>"
      ]
     },
     "metadata": {},
     "output_type": "display_data"
    }
   ],
   "source": [
    "# Plot decision boundary for two-layer network\n",
    "\n",
    "def plot_two_layer_decision_boundary(w1, w2, b1, w3, w4, b2, w_out, b_out):\n",
    "    # Create a grid of points\n",
    "    x_min, x_max = X_noisy[:,0].min()-0.2, X_noisy[:,0].max()+0.2\n",
    "    y_min, y_max = X_noisy[:,1].min()-0.2, X_noisy[:,1].max()+0.2\n",
    "    xx, yy = np.meshgrid(np.linspace(x_min, x_max, 200), np.linspace(y_min, y_max, 200))\n",
    "    grid = np.c_[xx.ravel(), yy.ravel()]\n",
    "    zz = two_layer_predict(grid, w1, w2, b1, w3, w4, b2, w_out, b_out)\n",
    "    zz = zz.reshape(xx.shape)\n",
    "    # Plot\n",
    "    plt.contourf(xx, yy, zz, levels=[0,0.5,1], alpha=0.2, colors=['#FFAAAA','#AAAAFF'])\n",
    "    plt.scatter(X_noisy[:,0], X_noisy[:,1], c=y, cmap='coolwarm', s=120, edgecolors='k')\n",
    "    plt.title('Two-Layer Network Decision Boundary')\n",
    "    plt.xlabel('X1')\n",
    "    plt.ylabel('X2')\n",
    "    plt.grid(True, alpha=0.3)\n",
    "    plt.show()\n",
    "\n",
    "plot_two_layer_decision_boundary(w1, w2, b1, w3, w4, b2, w_out, b_out)"
   ]
  },
  {
   "cell_type": "markdown",
   "id": "92e96687",
   "metadata": {},
   "source": [
    "## 🧪 Experiment: Adjust Hidden Layer Weights\n",
    "\n",
    "Use the sliders below to change the hidden layer's weights and biases. See how the decision boundary changes—and try to break or fix the network!"
   ]
  },
  {
   "cell_type": "code",
   "execution_count": null,
   "id": "097bef43",
   "metadata": {},
   "outputs": [
    {
     "data": {
      "application/vnd.jupyter.widget-view+json": {
       "model_id": "06b22dc8737e4080a958448cc91a89d0",
       "version_major": 2,
       "version_minor": 0
      },
      "text/plain": [
       "VBox(children=(HBox(children=(FloatSlider(value=8.0, description='w1', max=15.0, min=-15.0), FloatSlider(value…"
      ]
     },
     "metadata": {},
     "output_type": "display_data"
    },
    {
     "data": {
      "application/vnd.jupyter.widget-view+json": {
       "model_id": "0bdc0a5ab9904c33a0c203c15a9daef0",
       "version_major": 2,
       "version_minor": 0
      },
      "text/plain": [
       "Output()"
      ]
     },
     "metadata": {},
     "output_type": "display_data"
    }
   ],
   "source": [
    "w1_slider = widgets.FloatSlider(value=8, min=-15, max=15, step=0.1, description='w1')\n",
    "w2_slider = widgets.FloatSlider(value=8, min=-15, max=15, step=0.1, description='w2')\n",
    "b1_slider = widgets.FloatSlider(value=-4, min=-15, max=15, step=0.1, description='b1')\n",
    "w3_slider = widgets.FloatSlider(value=-8, min=-15, max=15, step=0.1, description='w3')\n",
    "w4_slider = widgets.FloatSlider(value=-8, min=-15, max=15, step=0.1, description='w4')\n",
    "b2_slider = widgets.FloatSlider(value=12, min=-15, max=15, step=0.1, description='b2')\n",
    "wout1_slider = widgets.FloatSlider(value=8, min=-15, max=15, step=0.1, description='w_out1')\n",
    "wout2_slider = widgets.FloatSlider(value=8, min=-15, max=15, step=0.1, description='w_out2')\n",
    "bout_slider = widgets.FloatSlider(value=-12, min=-15, max=15, step=0.1, description='b_out')\n",
    "\n",
    "ui = widgets.VBox([\n",
    "    widgets.HBox([w1_slider, w2_slider, b1_slider]),\n",
    "    widgets.HBox([w3_slider, w4_slider, b2_slider]),\n",
    "    widgets.HBox([wout1_slider, wout2_slider, bout_slider])\n",
    "])\n",
    "\n",
    "def interactive_two_layer_plot(w1, w2, b1, w3, w4, b2, w_out1, w_out2, b_out):\n",
    "    w_out = np.array([w_out1, w_out2])\n",
    "    plot_two_layer_decision_boundary(w1, w2, b1, w3, w4, b2, w_out, b_out)\n",
    "    probs = two_layer_predict(X_noisy, w1, w2, b1, w3, w4, b2, w_out, b_out)\n",
    "    preds = (probs > 0.5).astype(int)\n",
    "    print(\"Predictions:\", preds)\n",
    "    print(\"True labels:\", y)\n",
    "    print(\"Correct?\", np.array_equal(preds, y))\n",
    "\n",
    "out = widgets.interactive_output(interactive_two_layer_plot, {\n",
    "    'w1': w1_slider, 'w2': w2_slider, 'b1': b1_slider,\n",
    "    'w3': w3_slider, 'w4': w4_slider, 'b2': b2_slider,\n",
    "    'w_out1': wout1_slider, 'w_out2': wout2_slider, 'b_out': bout_slider\n",
    "})\n",
    "display(ui, out)"
   ]
  },
  {
   "cell_type": "markdown",
   "id": "bba46577",
   "metadata": {},
   "source": [
    "## 🎮 Practice: Tune the Network to Solve XOR\n",
    "\n",
    "- Can you find weights and biases that make the network solve the XOR problem?\n",
    "- Try breaking the network—what happens to the decision boundary?\n",
    "\n",
    "**Aha!** With two layers, you can solve problems that are impossible for a single neuron. This is the magic of deep learning!"
   ]
  },
  {
   "cell_type": "markdown",
   "id": "d070a7cc",
   "metadata": {},
   "source": [
    "## 🌉 Bridge to the Next Lesson\n",
    "\n",
    "In the next lesson, you'll learn how to train these networks automatically using backpropagation—the secret sauce behind modern AI. Get ready to unlock the next level of neural network mastery!"
   ]
  }
 ],
 "metadata": {
  "kernelspec": {
   "display_name": ".venv",
   "language": "python",
   "name": "python3"
  },
  "language_info": {
   "codemirror_mode": {
    "name": "ipython",
    "version": 3
   },
   "file_extension": ".py",
   "mimetype": "text/x-python",
   "name": "python",
   "nbconvert_exporter": "python",
   "pygments_lexer": "ipython3",
   "version": "3.11.7"
  }
 },
 "nbformat": 4,
 "nbformat_minor": 5
}
