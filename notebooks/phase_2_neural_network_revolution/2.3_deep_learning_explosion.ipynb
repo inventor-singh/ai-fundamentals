{
 "cells": [
  {
   "cell_type": "markdown",
   "id": "fc5611ae",
   "metadata": {},
   "source": [
    "# 💥 Level 2.3: The Deep Learning Explosion\n",
    "\n",
    "[![Open In Colab](https://colab.research.google.com/assets/colab-badge.svg)](https://colab.research.google.com/github/YOUR_USERNAME/ai-mastery-from-scratch/blob/main/notebooks/phase_2_neural_network_revolution/2.3_deep_learning_explosion.ipynb)\n",
    "\n",
    "---\n",
    "\n",
    "## 🎯 The Challenge: What Happens With Many Layers?\n",
    "\n",
    "In this lesson, you'll build and experiment with deeper neural networks. See how adding more layers and neurons changes what your network can learn!\n",
    "\n",
    "### What You'll Discover:\n",
    "- How depth affects learning\n",
    "- Visualizing decision boundaries for deep networks\n",
    "- The power and pitfalls of deep learning\n",
    "- Interactive experiments with network architecture\n",
    "\n",
    "Let's dive into the deep end!"
   ]
  },
  {
   "cell_type": "markdown",
   "id": "f085fbc2",
   "metadata": {},
   "source": [
    "## 🚀 Setup & Imports\n",
    "\n",
    "*Run the cell below to set up your environment. This works in both Google Colab and local Jupyter notebooks.*"
   ]
  },
  {
   "cell_type": "code",
   "execution_count": 1,
   "id": "3d9834c5",
   "metadata": {},
   "outputs": [
    {
     "name": "stdout",
     "output_type": "stream",
     "text": [
      "✅ All packages installed!\n"
     ]
    }
   ],
   "source": [
    "# 📦 Install Required Packages\n",
    "!pip install numpy --quiet\n",
    "!pip install matplotlib --quiet\n",
    "!pip install ipywidgets --quiet\n",
    "\n",
    "print(\"✅ All packages installed!\")"
   ]
  },
  {
   "cell_type": "code",
   "execution_count": 2,
   "id": "fa437844",
   "metadata": {},
   "outputs": [
    {
     "name": "stdout",
     "output_type": "stream",
     "text": [
      "🎯 Environment ready!\n"
     ]
    }
   ],
   "source": [
    "# 🔧 Environment Check & Imports\n",
    "import numpy as np\n",
    "import matplotlib.pyplot as plt\n",
    "import ipywidgets as widgets\n",
    "from IPython.display import display\n",
    "\n",
    "plt.style.use('default')\n",
    "plt.rcParams['figure.figsize'] = (7, 5)\n",
    "plt.rcParams['font.size'] = 12\n",
    "\n",
    "print(\"🎯 Environment ready!\")"
   ]
  },
  {
   "cell_type": "markdown",
   "id": "00c9927d",
   "metadata": {},
   "source": [
    "## 🧬 Generate XOR Dataset\n",
    "\n",
    "We'll use the same XOR dataset as before to see how deeper networks learn."
   ]
  },
  {
   "cell_type": "code",
   "execution_count": 3,
   "id": "799ddc56",
   "metadata": {},
   "outputs": [],
   "source": [
    "# Generate XOR data (2D)\n",
    "X = np.array([\n",
    "    [0, 0],\n",
    "    [0, 1],\n",
    "    [1, 0],\n",
    "    [1, 1]\n",
    "])\n",
    "y = np.array([0, 1, 1, 0])\n",
    "\n",
    "# Add a little noise for visualization\n",
    "np.random.seed(42)\n",
    "X_noisy = X + 0.08 * np.random.randn(*X.shape)\n"
   ]
  },
  {
   "cell_type": "markdown",
   "id": "2a6f23f6",
   "metadata": {},
   "source": [
    "## 👀 Visualize XOR Data\n",
    "\n",
    "Let's plot the XOR dataset again to see what our deep networks will be learning."
   ]
  },
  {
   "cell_type": "code",
   "execution_count": 4,
   "id": "2e1be716",
   "metadata": {},
   "outputs": [
    {
     "data": {
      "image/png": "[encoded data removed]",
      "text/plain": [
       "<Figure size 700x500 with 1 Axes>"
      ]
     },
     "metadata": {},
     "output_type": "display_data"
    }
   ],
   "source": [
    "# Plot XOR data\n",
    "plt.scatter(X_noisy[:,0], X_noisy[:,1], c=y, cmap='coolwarm', s=120, edgecolors='k')\n",
    "for i, (x, label) in enumerate(zip(X_noisy, y)):\n",
    "    plt.text(x[0]+0.03, x[1], str(label), fontsize=14, color='black')\n",
    "plt.title('XOR Dataset: Not Linearly Separable')\n",
    "plt.xlabel('X1')\n",
    "plt.ylabel('X2')\n",
    "plt.grid(True, alpha=0.3)\n",
    "plt.show()"
   ]
  },
  {
   "cell_type": "markdown",
   "id": "6a76c163",
   "metadata": {},
   "source": [
    "## 🏗️ Build a Deep Neural Network\n",
    "\n",
    "Now let's build a neural network with more than two layers. We'll see how increasing depth changes what the network can learn!"
   ]
  },
  {
   "cell_type": "code",
   "execution_count": 5,
   "id": "4213a1c6",
   "metadata": {},
   "outputs": [
    {
     "name": "stdout",
     "output_type": "stream",
     "text": [
      "Predictions: [0 0 0 0]\n",
      "True labels: [0 1 1 0]\n"
     ]
    }
   ],
   "source": [
    "# Define a deep neural network (3 hidden layers, sigmoid activations)\n",
    "def sigmoid(z):\n",
    "    return 1 / (1 + np.exp(-z))\n",
    "\n",
    "def deep_forward(X, params):\n",
    "    # Unpack parameters\n",
    "    W1, b1, W2, b2, W3, b3, W_out, b_out = params\n",
    "    h1 = sigmoid(X @ W1 + b1)\n",
    "    h2 = sigmoid(h1 @ W2 + b2)\n",
    "    h3 = sigmoid(h2 @ W3 + b3)\n",
    "    z_out = h3 @ W_out + b_out\n",
    "    return sigmoid(z_out), h1, h2, h3\n",
    "\n",
    "# Initialize weights for 2 inputs -> 4 -> 4 -> 2 -> 1\n",
    "np.random.seed(0)\n",
    "W1 = np.random.randn(2, 4)\n",
    "b1 = np.zeros(4)\n",
    "W2 = np.random.randn(4, 4)\n",
    "b2 = np.zeros(4)\n",
    "W3 = np.random.randn(4, 2)\n",
    "b3 = np.zeros(2)\n",
    "W_out = np.random.randn(2, 1)\n",
    "b_out = np.zeros(1)\n",
    "\n",
    "params = [W1, b1, W2, b2, W3, b3, W_out, b_out]\n",
    "probs, h1, h2, h3 = deep_forward(X_noisy, params)\n",
    "preds = (probs > 0.5).astype(int).flatten()\n",
    "print(\"Predictions:\", preds)\n",
    "print(\"True labels:\", y)"
   ]
  },
  {
   "cell_type": "markdown",
   "id": "3f5823ac",
   "metadata": {},
   "source": [
    "## 🖼️ Visualize the Deep Network's Decision Boundary\n",
    "\n",
    "Let's see how a deep network separates the XOR data. The boundary can become very complex!"
   ]
  },
  {
   "cell_type": "code",
   "execution_count": 6,
   "id": "9391c3fd",
   "metadata": {},
   "outputs": [
    {
     "data": {
      "image/png": "[encoded data removed]",
      "text/plain": [
       "<Figure size 700x500 with 1 Axes>"
      ]
     },
     "metadata": {},
     "output_type": "display_data"
    }
   ],
   "source": [
    "# Plot decision boundary for deep network\n",
    "def plot_deep_decision_boundary(params):\n",
    "    x_min, x_max = X_noisy[:,0].min()-0.2, X_noisy[:,0].max()+0.2\n",
    "    y_min, y_max = X_noisy[:,1].min()-0.2, X_noisy[:,1].max()+0.2\n",
    "    xx, yy = np.meshgrid(np.linspace(x_min, x_max, 200), np.linspace(y_min, y_max, 200))\n",
    "    grid = np.c_[xx.ravel(), yy.ravel()]\n",
    "    zz, _, _, _ = deep_forward(grid, params)\n",
    "    zz = zz.reshape(xx.shape)\n",
    "    plt.contourf(xx, yy, zz, levels=[0,0.5,1], alpha=0.2, colors=['#FFAAAA','#AAAAFF'])\n",
    "    plt.scatter(X_noisy[:,0], X_noisy[:,1], c=y, cmap='coolwarm', s=120, edgecolors='k')\n",
    "    plt.title('Deep Network Decision Boundary')\n",
    "    plt.xlabel('X1')\n",
    "    plt.ylabel('X2')\n",
    "    plt.grid(True, alpha=0.3)\n",
    "    plt.show()\n",
    "\n",
    "plot_deep_decision_boundary(params)"
   ]
  },
  {
   "cell_type": "markdown",
   "id": "d9995176",
   "metadata": {},
   "source": [
    "## 🏋️ Train the Deep Network\n",
    "\n",
    "Let's train our deep network using backpropagation and see how it learns to solve XOR!"
   ]
  },
  {
   "cell_type": "code",
   "execution_count": null,
   "id": "1f1891a9",
   "metadata": {},
   "outputs": [],
   "source": [
    "# Train the deep network\n",
    "def binary_cross_entropy(y_true, y_pred):\n",
    "    eps = 1e-8\n",
    "    y_pred = np.clip(y_pred, eps, 1 - eps)\n",
    "    return -np.mean(y_true * np.log(y_pred) + (1 - y_true) * np.log(1 - y_pred))\n",
    "\n",
    "def train_deep_network(layers=[4, 4, 2], epochs=500, lr=0.1):\n",
    "    # Initialize weights\n",
    "    np.random.seed(0)\n",
    "    W1 = np.random.randn(2, layers[0]) * 0.5\n",
    "    b1 = np.zeros(layers[0])\n",
    "    W2 = np.random.randn(layers[0], layers[1]) * 0.5\n",
    "    b2 = np.zeros(layers[1])\n",
    "    W3 = np.random.randn(layers[1], layers[2]) * 0.5\n",
    "    b3 = np.zeros(layers[2])\n",
    "    W_out = np.random.randn(layers[2], 1) * 0.5\n",
    "    b_out = np.zeros(1)\n",
    "    \n",
    "    params = [W1, b1, W2, b2, W3, b3, W_out, b_out]\n",
    "    losses = []\n",
    "    \n",
    "    for epoch in range(epochs):\n",
    "        # Forward pass\n",
    "        probs, h1, h2, h3 = deep_forward(X_noisy, params)\n",
    "        loss = binary_cross_entropy(y, probs.flatten())\n",
    "        losses.append(loss)\n",
    "        \n",
    "        # Simple gradient descent (simplified for clarity)\n",
    "        error = (probs.flatten() - y).reshape(-1, 1)\n",
    "        \n",
    "        # Update output layer\n",
    "        W_out -= lr * (h3.T @ error) / len(X_noisy)\n",
    "        b_out -= lr * np.mean(error, axis=0)\n",
    "        \n",
    "        # Update hidden layers (simplified)\n",
    "        error_h3 = error @ W_out.T * h3 * (1 - h3)\n",
    "        W3 -= lr * (h2.T @ error_h3) / len(X_noisy)\n",
    "        b3 -= lr * np.mean(error_h3, axis=0)\n",
    "        \n",
    "        error_h2 = error_h3 @ W3.T * h2 * (1 - h2)\n",
    "        W2 -= lr * (h1.T @ error_h2) / len(X_noisy)\n",
    "        b2 -= lr * np.mean(error_h2, axis=0)\n",
    "        \n",
    "        error_h1 = error_h2 @ W2.T * h1 * (1 - h1)\n",
    "        W1 -= lr * (X_noisy.T @ error_h1) / len(X_noisy)\n",
    "        b1 -= lr * np.mean(error_h1, axis=0)\n",
    "        \n",
    "        params = [W1, b1, W2, b2, W3, b3, W_out, b_out]\n",
    "    \n",
    "    # Plot training progress\n",
    "    plt.figure(figsize=(12, 5))\n",
    "    \n",
    "    plt.subplot(1, 2, 1)\n",
    "    plt.plot(losses)\n",
    "    plt.title('Training Loss')\n",
    "    plt.xlabel('Epoch')\n",
    "    plt.ylabel('Loss')\n",
    "    plt.grid(True, alpha=0.3)\n",
    "    \n",
    "    plt.subplot(1, 2, 2)\n",
    "    plot_deep_decision_boundary(params)\n",
    "    \n",
    "    plt.tight_layout()\n",
    "    plt.show()\n",
    "    \n",
    "    # Final predictions\n",
    "    final_probs, _, _, _ = deep_forward(X_noisy, params)\n",
    "    final_preds = (final_probs > 0.5).astype(int).flatten()\n",
    "    print(f\"Final predictions: {final_preds}\")\n",
    "    print(f\"True labels: {y}\")\n",
    "    print(f\"Accuracy: {np.mean(final_preds == y)*100:.1f}%\")\n",
    "    \n",
    "    return params\n",
    "\n",
    "# Train with different architectures\n",
    "widgets.interact(\n",
    "    train_deep_network,\n",
    "    layers=widgets.fixed([4, 4, 2]),\n",
    "    epochs=widgets.IntSlider(value=500, min=100, max=1000, step=100),\n",
    "    lr=widgets.FloatSlider(value=0.1, min=0.01, max=1.0, step=0.01)\n",
    ")"
   ]
  }
 ],
 "metadata": {
  "kernelspec": {
   "display_name": ".venv",
   "language": "python",
   "name": "python3"
  },
  "language_info": {
   "codemirror_mode": {
    "name": "ipython",
    "version": 3
   },
   "file_extension": ".py",
   "mimetype": "text/x-python",
   "name": "python",
   "nbconvert_exporter": "python",
   "pygments_lexer": "ipython3",
   "version": "3.11.7"
  }
 },
 "nbformat": 4,
 "nbformat_minor": 5
}
