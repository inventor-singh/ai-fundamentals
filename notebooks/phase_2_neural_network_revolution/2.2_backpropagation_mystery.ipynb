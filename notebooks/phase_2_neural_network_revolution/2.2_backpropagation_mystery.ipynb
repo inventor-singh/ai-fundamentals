{
 "cells": [
  {
   "cell_type": "markdown",
   "id": "2d3e6c55",
   "metadata": {},
   "source": [
    "# 🧩 Level 2.2: The Backpropagation Mystery\n",
    "\n",
    "[![Open In Colab](https://colab.research.google.com/assets/colab-badge.svg)](https://colab.research.google.com/github/YOUR_USERNAME/ai-mastery-from-scratch/blob/main/notebooks/phase_2_neural_network_revolution/2.2_backpropagation_mystery.ipynb)\n",
    "\n",
    "---\n",
    "\n",
    "## 🎯 The Challenge: How Does Error Flow Backwards?\n",
    "\n",
    "In this lesson, you'll unravel the secret behind how neural networks learn: backpropagation! We'll visualize how errors flow backward through the network and update the weights step by step.\n",
    "\n",
    "### What You'll Discover:\n",
    "- The chain rule in action\n",
    "- How gradients flow through a network\n",
    "- Step-by-step weight updates\n",
    "- Visual intuition for learning\n",
    "\n",
    "Let's begin the mystery!"
   ]
  },
  {
   "cell_type": "markdown",
   "id": "7f14dd63",
   "metadata": {},
   "source": [
    "## 🚀 Setup & Imports\n",
    "\n",
    "*Run the cell below to set up your environment. This works in both Google Colab and local Jupyter notebooks.*"
   ]
  },
  {
   "cell_type": "code",
   "execution_count": 1,
   "id": "152dac3c",
   "metadata": {},
   "outputs": [
    {
     "name": "stdout",
     "output_type": "stream",
     "text": [
      "✅ All packages installed!\n"
     ]
    }
   ],
   "source": [
    "# 📦 Install Required Packages\n",
    "!pip install numpy --quiet\n",
    "!pip install matplotlib --quiet\n",
    "!pip install ipywidgets --quiet\n",
    "\n",
    "print(\"✅ All packages installed!\")"
   ]
  },
  {
   "cell_type": "code",
   "execution_count": 2,
   "id": "5b180c88",
   "metadata": {},
   "outputs": [
    {
     "name": "stdout",
     "output_type": "stream",
     "text": [
      "🎯 Environment ready!\n"
     ]
    }
   ],
   "source": [
    "# 🔧 Environment Check & Imports\n",
    "import numpy as np\n",
    "import matplotlib.pyplot as plt\n",
    "import ipywidgets as widgets\n",
    "from IPython.display import display\n",
    "\n",
    "plt.style.use('default')\n",
    "plt.rcParams['figure.figsize'] = (7, 5)\n",
    "plt.rcParams['font.size'] = 12\n",
    "\n",
    "print(\"🎯 Environment ready!\")"
   ]
  },
  {
   "cell_type": "markdown",
   "id": "28b71d38",
   "metadata": {},
   "source": [
    "## 🧬 Generate XOR Dataset\n",
    "\n",
    "We'll use the same XOR dataset as before to see how backpropagation helps the network learn."
   ]
  },
  {
   "cell_type": "code",
   "execution_count": 3,
   "id": "80650f9f",
   "metadata": {},
   "outputs": [],
   "source": [
    "# Generate XOR data (2D)\n",
    "X = np.array([\n",
    "    [0, 0],\n",
    "    [0, 1],\n",
    "    [1, 0],\n",
    "    [1, 1]\n",
    "])\n",
    "y = np.array([0, 1, 1, 0])\n",
    "\n",
    "# Add a little noise for visualization\n",
    "np.random.seed(42)\n",
    "X_noisy = X + 0.08 * np.random.randn(*X.shape)\n"
   ]
  },
  {
   "cell_type": "markdown",
   "id": "c484d41d",
   "metadata": {},
   "source": [
    "## 👀 Visualize XOR Data\n",
    "\n",
    "Let's plot the XOR dataset again to remind ourselves of the challenge."
   ]
  },
  {
   "cell_type": "code",
   "execution_count": 4,
   "id": "ed5dc10f",
   "metadata": {},
   "outputs": [
    {
     "data": {
      "image/png": "[encoded data removed]",
      "text/plain": [
       "<Figure size 700x500 with 1 Axes>"
      ]
     },
     "metadata": {},
     "output_type": "display_data"
    }
   ],
   "source": [
    "# Plot XOR data\n",
    "plt.scatter(X_noisy[:,0], X_noisy[:,1], c=y, cmap='coolwarm', s=120, edgecolors='k')\n",
    "for i, (x, label) in enumerate(zip(X_noisy, y)):\n",
    "    plt.text(x[0]+0.03, x[1], str(label), fontsize=14, color='black')\n",
    "plt.title('XOR Dataset: Not Linearly Separable')\n",
    "plt.xlabel('X1')\n",
    "plt.ylabel('X2')\n",
    "plt.grid(True, alpha=0.3)\n",
    "plt.show()"
   ]
  },
  {
   "cell_type": "markdown",
   "id": "4ee37b06",
   "metadata": {},
   "source": [
    "## 🏗️ Build a Two-Layer Neural Network (Forward Pass)\n",
    "\n",
    "Let's start by building a two-layer neural network for XOR. We'll do a forward pass to compute predictions before learning how to train it."
   ]
  },
  {
   "cell_type": "code",
   "execution_count": 5,
   "id": "cd41ccb0",
   "metadata": {},
   "outputs": [
    {
     "name": "stdout",
     "output_type": "stream",
     "text": [
      "Predictions: [0 1 1 0]\n",
      "True labels: [0 1 1 0]\n"
     ]
    }
   ],
   "source": [
    "# Define a two-layer neural network (forward pass only)\n",
    "def sigmoid(z):\n",
    "    return 1 / (1 + np.exp(-z))\n",
    "\n",
    "def two_layer_forward(X, w1, w2, b1, w3, w4, b2, w_out, b_out):\n",
    "    # Hidden layer\n",
    "    h1 = sigmoid(w1 * X[:,0] + w2 * X[:,1] + b1)\n",
    "    h2 = sigmoid(w3 * X[:,0] + w4 * X[:,1] + b2)\n",
    "    # Output layer\n",
    "    z_out = w_out[0] * h1 + w_out[1] * h2 + b_out\n",
    "    return sigmoid(z_out), h1, h2\n",
    "\n",
    "# Initialize weights (randomly for now)\n",
    "w1, w2, b1 = 5.0, 5.0, -2.5\n",
    "w3, w4, b2 = -5.0, -5.0, 7.5\n",
    "w_out = np.array([5.0, 5.0])\n",
    "b_out = -7.5\n",
    "\n",
    "probs, h1, h2 = two_layer_forward(X_noisy, w1, w2, b1, w3, w4, b2, w_out, b_out)\n",
    "preds = (probs > 0.5).astype(int)\n",
    "print(\"Predictions:\", preds)\n",
    "print(\"True labels:\", y)"
   ]
  },
  {
   "cell_type": "markdown",
   "id": "8eda70bf",
   "metadata": {},
   "source": [
    "## 📉 Loss Function: Measuring Error\n",
    "\n",
    "To train our network, we need to measure how wrong its predictions are. We'll use binary cross-entropy loss, which is standard for classification problems."
   ]
  },
  {
   "cell_type": "code",
   "execution_count": 6,
   "id": "f04ea92d",
   "metadata": {},
   "outputs": [
    {
     "name": "stdout",
     "output_type": "stream",
     "text": [
      "Loss: 0.1430\n"
     ]
    }
   ],
   "source": [
    "# Binary cross-entropy loss\n",
    "def binary_cross_entropy(y_true, y_pred):\n",
    "    # Clip predictions to avoid log(0)\n",
    "    eps = 1e-8\n",
    "    y_pred = np.clip(y_pred, eps, 1 - eps)\n",
    "    return -np.mean(y_true * np.log(y_pred) + (1 - y_true) * np.log(1 - y_pred))\n",
    "\n",
    "loss = binary_cross_entropy(y, probs)\n",
    "print(f\"Loss: {loss:.4f}\")"
   ]
  },
  {
   "cell_type": "markdown",
   "id": "2e7d23f0",
   "metadata": {},
   "source": [
    "## 🔄 Backpropagation: The Chain Rule in Action\n",
    "\n",
    "Backpropagation is how neural networks learn. It uses the chain rule from calculus to compute how much each weight contributed to the error, so we know how to adjust them."
   ]
  },
  {
   "cell_type": "code",
   "execution_count": 7,
   "id": "8d7db96e",
   "metadata": {},
   "outputs": [
    {
     "name": "stdout",
     "output_type": "stream",
     "text": [
      "Gradients:\n",
      "dL/dw1: -0.0150, dL/dw2: -0.0079, dL/db1: -0.0116\n",
      "dL/dw3: -0.0089, dL/dw4: -0.0309, dL/db2: -0.0386\n",
      "dL/dw_out: [-0.05348472 -0.04422065]\n",
      "dL/db_out: -0.0328\n"
     ]
    }
   ],
   "source": [
    "# Manual backpropagation for one step (no loops, for clarity)\n",
    "def sigmoid_deriv(z):\n",
    "    s = sigmoid(z)\n",
    "    return s * (1 - s)\n",
    "\n",
    "# Forward pass (reuse previous values)\n",
    "z1 = w1 * X_noisy[:,0] + w2 * X_noisy[:,1] + b1\n",
    "z2 = w3 * X_noisy[:,0] + w4 * X_noisy[:,1] + b2\n",
    "h1 = sigmoid(z1)\n",
    "h2 = sigmoid(z2)\n",
    "z_out = w_out[0] * h1 + w_out[1] * h2 + b_out\n",
    "probs = sigmoid(z_out)\n",
    "\n",
    "# Gradients of loss w.r.t. output\n",
    "error = probs - y  # dL/dz_out\n",
    "\n",
    "dL_dw_out = np.array([\n",
    "    np.mean(error * h1),\n",
    "    np.mean(error * h2)\n",
    "])\n",
    "dL_db_out = np.mean(error)\n",
    "\n",
    "# Gradients for hidden layer\n",
    "error_h1 = error * w_out[0] * sigmoid_deriv(z1)\n",
    "error_h2 = error * w_out[1] * sigmoid_deriv(z2)\n",
    "\n",
    "dL_dw1 = np.mean(error_h1 * X_noisy[:,0])\n",
    "dL_dw2 = np.mean(error_h1 * X_noisy[:,1])\n",
    "dL_db1 = np.mean(error_h1)\n",
    "dL_dw3 = np.mean(error_h2 * X_noisy[:,0])\n",
    "dL_dw4 = np.mean(error_h2 * X_noisy[:,1])\n",
    "dL_db2 = np.mean(error_h2)\n",
    "\n",
    "print(\"Gradients:\")\n",
    "print(f\"dL/dw1: {dL_dw1:.4f}, dL/dw2: {dL_dw2:.4f}, dL/db1: {dL_db1:.4f}\")\n",
    "print(f\"dL/dw3: {dL_dw3:.4f}, dL/dw4: {dL_dw4:.4f}, dL/db2: {dL_db2:.4f}\")\n",
    "print(f\"dL/dw_out: {dL_dw_out}\")\n",
    "print(f\"dL/db_out: {dL_db_out:.4f}\")"
   ]
  },
  {
   "cell_type": "markdown",
   "id": "24586425",
   "metadata": {},
   "source": [
    "## 🏃‍♂️ Update Weights: Learning in Action\n",
    "\n",
    "Let's update the weights using the gradients and see how the loss changes. This is how the network learns!"
   ]
  },
  {
   "cell_type": "code",
   "execution_count": 8,
   "id": "666d4f33",
   "metadata": {},
   "outputs": [
    {
     "name": "stdout",
     "output_type": "stream",
     "text": [
      "New loss after one update: 0.1353\n"
     ]
    }
   ],
   "source": [
    "# Perform a single gradient descent step\n",
    "learning_rate = 1.0\n",
    "\n",
    "# Update weights\n",
    "w1 -= learning_rate * dL_dw1\n",
    "w2 -= learning_rate * dL_dw2\n",
    "b1 -= learning_rate * dL_db1\n",
    "w3 -= learning_rate * dL_dw3\n",
    "w4 -= learning_rate * dL_dw4\n",
    "b2 -= learning_rate * dL_db2\n",
    "w_out -= learning_rate * dL_dw_out\n",
    "b_out -= learning_rate * dL_db_out\n",
    "\n",
    "# Forward pass after update\n",
    "probs_new, _, _ = two_layer_forward(X_noisy, w1, w2, b1, w3, w4, b2, w_out, b_out)\n",
    "loss_new = binary_cross_entropy(y, probs_new)\n",
    "print(f\"New loss after one update: {loss_new:.4f}\")"
   ]
  },
  {
   "cell_type": "markdown",
   "id": "067b5c3b",
   "metadata": {},
   "source": [
    "## 🧪 Experiment: Watch the Network Learn\n",
    "\n",
    "Use the button below to perform multiple training steps. Watch how the loss decreases as the network learns to solve XOR!"
   ]
  },
  {
   "cell_type": "code",
   "execution_count": 10,
   "id": "82ea20e1",
   "metadata": {},
   "outputs": [
    {
     "data": {
      "application/vnd.jupyter.widget-view+json": {
       "model_id": "405657d1af164ef3b6b75a7b32fe4ac1",
       "version_major": 2,
       "version_minor": 0
      },
      "text/plain": [
       "interactive(children=(IntSlider(value=100, description='steps', max=500, min=10, step=10), FloatSlider(value=1…"
      ]
     },
     "metadata": {},
     "output_type": "display_data"
    },
    {
     "data": {
      "text/plain": [
       "<function __main__.train_network(steps=100, lr=1.0)>"
      ]
     },
     "execution_count": 10,
     "metadata": {},
     "output_type": "execute_result"
    }
   ],
   "source": [
    "# Interactive training: watch loss decrease\n",
    "\n",
    "def train_network(steps=100, lr=1.0):\n",
    "    # Initialize weights\n",
    "    w1, w2, b1 = 5.0, 5.0, -2.5\n",
    "    w3, w4, b2 = -5.0, -5.0, 7.5\n",
    "    w_out = np.array([5.0, 5.0])\n",
    "    b_out = -7.5\n",
    "    losses = []\n",
    "    for step in range(steps):\n",
    "        # Forward\n",
    "        z1 = w1 * X_noisy[:,0] + w2 * X_noisy[:,1] + b1\n",
    "        z2 = w3 * X_noisy[:,0] + w4 * X_noisy[:,1] + b2\n",
    "        h1 = sigmoid(z1)\n",
    "        h2 = sigmoid(z2)\n",
    "        z_out = w_out[0] * h1 + w_out[1] * h2 + b_out\n",
    "        probs = sigmoid(z_out)\n",
    "        loss = binary_cross_entropy(y, probs)\n",
    "        losses.append(loss)\n",
    "        # Backward\n",
    "        error = probs - y\n",
    "        dL_dw_out = np.array([\n",
    "            np.mean(error * h1),\n",
    "            np.mean(error * h2)\n",
    "        ])\n",
    "        dL_db_out = np.mean(error)\n",
    "        error_h1 = error * w_out[0] * sigmoid_deriv(z1)\n",
    "        error_h2 = error * w_out[1] * sigmoid_deriv(z2)\n",
    "        dL_dw1 = np.mean(error_h1 * X_noisy[:,0])\n",
    "        dL_dw2 = np.mean(error_h1 * X_noisy[:,1])\n",
    "        dL_db1 = np.mean(error_h1)\n",
    "        dL_dw3 = np.mean(error_h2 * X_noisy[:,0])\n",
    "        dL_dw4 = np.mean(error_h2 * X_noisy[:,1])\n",
    "        dL_db2 = np.mean(error_h2)\n",
    "        # Update\n",
    "        w1 -= lr * dL_dw1\n",
    "        w2 -= lr * dL_dw2\n",
    "        b1 -= lr * dL_db1\n",
    "        w3 -= lr * dL_dw3\n",
    "        w4 -= lr * dL_dw4\n",
    "        b2 -= lr * dL_db2\n",
    "        w_out -= lr * dL_dw_out\n",
    "        b_out -= lr * dL_db_out\n",
    "    # Plot loss curve\n",
    "    plt.plot(losses, marker='o')\n",
    "    plt.title('Loss During Training')\n",
    "    plt.xlabel('Step')\n",
    "    plt.ylabel('Loss')\n",
    "    plt.grid(True, alpha=0.3)\n",
    "    plt.show()\n",
    "    # Final predictions\n",
    "    probs_final, _, _ = two_layer_forward(X_noisy, w1, w2, b1, w3, w4, b2, w_out, b_out)\n",
    "    preds_final = (probs_final > 0.5).astype(int)\n",
    "    print(\"Final predictions:\", preds_final)\n",
    "    print(\"True labels:\", y)\n",
    "    print(\"Correct?\", np.array_equal(preds_final, y))\n",
    "\n",
    "widgets.interact(\n",
    "    train_network,\n",
    "    steps=widgets.IntSlider(value=100, min=10, max=500, step=10),\n",
    "    lr=widgets.FloatSlider(value=1.0, min=0.01, max=2.0, step=0.01)\n",
    ")"
   ]
  },
  {
   "cell_type": "markdown",
   "id": "1fcd6a5a",
   "metadata": {},
   "source": [
    "## 🌉 Bridge to the Next Lesson\n",
    "\n",
    "Now you've seen backpropagation in action! In the next lesson, you'll explore what happens when you add more layers and neurons—unlocking the true power of deep learning."
   ]
  }
 ],
 "metadata": {
  "kernelspec": {
   "display_name": ".venv",
   "language": "python",
   "name": "python3"
  },
  "language_info": {
   "codemirror_mode": {
    "name": "ipython",
    "version": 3
   },
   "file_extension": ".py",
   "mimetype": "text/x-python",
   "name": "python",
   "nbconvert_exporter": "python",
   "pygments_lexer": "ipython3",
   "version": "3.11.7"
  }
 },
 "nbformat": 4,
 "nbformat_minor": 5
}
